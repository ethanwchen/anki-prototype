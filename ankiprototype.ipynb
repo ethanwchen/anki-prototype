{
 "cells": [
  {
   "cell_type": "code",
   "execution_count": 2,
   "id": "b21662b2",
   "metadata": {},
   "outputs": [
    {
     "name": "stdout",
     "output_type": "stream",
     "text": [
      "What would you like to do? (add/study/quit): add\n",
      "Enter the word you want to add: aberrant\n",
      "Enter the definition of the word: diverging from the standard type\n",
      "What would you like to do? (add/study/quit): study\n",
      "What is the definition of 'aberrant'?\n",
      "Press enter to see the definition...diverging from the standard type\n",
      "Definition: diverging from the standard type\n",
      "Press enter to continue to the next word...\n",
      "What is the definition of 'promiscuous'?\n",
      "Press enter to see the definition...having to do with sexual relationships\n",
      "Definition: having or characterized by many transient sexual relationships\n",
      "Press enter to continue to the next word...\n",
      "What would you like to do? (add/study/quit): quit\n"
     ]
    }
   ],
   "source": [
    "import json\n",
    "import random\n",
    "\n",
    "class GREPrep:\n",
    "    def __init__(self, vocab_file=\"vocab.json\"):\n",
    "        self.vocab_file = vocab_file\n",
    "        try:\n",
    "            with open(self.vocab_file, \"r\") as f:\n",
    "                self.vocab = json.load(f)\n",
    "        except FileNotFoundError:\n",
    "            self.vocab = {}\n",
    "\n",
    "    def add_word(self, word, definition):\n",
    "        self.vocab[word] = definition\n",
    "        with open(self.vocab_file, \"w\") as f:\n",
    "            json.dump(self.vocab, f)\n",
    "\n",
    "    def study(self):\n",
    "        words = list(self.vocab.keys())\n",
    "        random.shuffle(words)\n",
    "        for word in words:\n",
    "            print(f\"What is the definition of '{word}'?\")\n",
    "            input(\"Press enter to see the definition...\")\n",
    "            print(f\"Definition: {self.vocab[word]}\")\n",
    "            input(\"Press enter to continue to the next word...\")\n",
    "\n",
    "if __name__ == \"__main__\":\n",
    "    gre = GREPrep()\n",
    "\n",
    "    while True:\n",
    "        action = input(\"What would you like to do? (add/study/quit): \")\n",
    "        if action.lower() == \"add\":\n",
    "            word = input(\"Enter the word you want to add: \")\n",
    "            definition = input(\"Enter the definition of the word: \")\n",
    "            gre.add_word(word, definition)\n",
    "        elif action.lower() == \"study\":\n",
    "            gre.study()\n",
    "        elif action.lower() == \"quit\":\n",
    "            break\n",
    "        else:\n",
    "            print(\"Invalid action, please try again.\")\n"
   ]
  }
 ],
 "metadata": {
  "kernelspec": {
   "display_name": "Python 3 (ipykernel)",
   "language": "python",
   "name": "python3"
  },
  "language_info": {
   "codemirror_mode": {
    "name": "ipython",
    "version": 3
   },
   "file_extension": ".py",
   "mimetype": "text/x-python",
   "name": "python",
   "nbconvert_exporter": "python",
   "pygments_lexer": "ipython3",
   "version": "3.9.13"
  }
 },
 "nbformat": 4,
 "nbformat_minor": 5
}
